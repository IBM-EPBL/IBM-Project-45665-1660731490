{
  "nbformat": 4,
  "nbformat_minor": 0,
  "metadata": {
    "colab": {
      "provenance": [],
      "collapsed_sections": []
    },
    "kernelspec": {
      "name": "python3",
      "display_name": "Python 3"
    },
    "language_info": {
      "name": "python"
    }
  },
  "cells": [
    {
      "cell_type": "code",
      "execution_count": 4,
      "metadata": {
        "id": "wchmCZC8cSf0"
      },
      "outputs": [],
      "source": [
        "import pandas as pd\n",
        "import numpy as np\n",
        "import seaborn as sns\n",
        "import matplotlib.pyplot as plt"
      ]
    },
    {
      "cell_type": "code",
      "source": [
        "ds=pd.read_csv(\"/content/car performance.csv\")"
      ],
      "metadata": {
        "id": "g361j5wqdKEN"
      },
      "execution_count": 5,
      "outputs": []
    },
    {
      "cell_type": "code",
      "source": [
        "ds.head()"
      ],
      "metadata": {
        "colab": {
          "base_uri": "https://localhost:8080/",
          "height": 206
        },
        "id": "rIoawFt3dKK0",
        "outputId": "5e9804cb-1206-4ade-e504-e2f293017796"
      },
      "execution_count": 6,
      "outputs": [
        {
          "output_type": "execute_result",
          "data": {
            "text/plain": [
              "    mpg  cylinders  displacement  horsepower  weight  acceleration  \\\n",
              "0  18.0          8         307.0         130    3504          12.0   \n",
              "1  15.0          8         350.0         165    3693          11.5   \n",
              "2  18.0          8         318.0         150    3436          11.0   \n",
              "3  16.0          8         304.0         150    3433          12.0   \n",
              "4  17.0          8         302.0         140    3449          10.5   \n",
              "\n",
              "   model year  origin                   car name  \n",
              "0          70       1  chevrolet chevelle malibu  \n",
              "1          70       1          buick skylark 320  \n",
              "2          70       1         plymouth satellite  \n",
              "3          70       1              amc rebel sst  \n",
              "4          70       1                ford torino  "
            ],
            "text/html": [
              "\n",
              "  <div id=\"df-1c3fa095-950b-4dc8-bb21-63ac7e2d8ad3\">\n",
              "    <div class=\"colab-df-container\">\n",
              "      <div>\n",
              "<style scoped>\n",
              "    .dataframe tbody tr th:only-of-type {\n",
              "        vertical-align: middle;\n",
              "    }\n",
              "\n",
              "    .dataframe tbody tr th {\n",
              "        vertical-align: top;\n",
              "    }\n",
              "\n",
              "    .dataframe thead th {\n",
              "        text-align: right;\n",
              "    }\n",
              "</style>\n",
              "<table border=\"1\" class=\"dataframe\">\n",
              "  <thead>\n",
              "    <tr style=\"text-align: right;\">\n",
              "      <th></th>\n",
              "      <th>mpg</th>\n",
              "      <th>cylinders</th>\n",
              "      <th>displacement</th>\n",
              "      <th>horsepower</th>\n",
              "      <th>weight</th>\n",
              "      <th>acceleration</th>\n",
              "      <th>model year</th>\n",
              "      <th>origin</th>\n",
              "      <th>car name</th>\n",
              "    </tr>\n",
              "  </thead>\n",
              "  <tbody>\n",
              "    <tr>\n",
              "      <th>0</th>\n",
              "      <td>18.0</td>\n",
              "      <td>8</td>\n",
              "      <td>307.0</td>\n",
              "      <td>130</td>\n",
              "      <td>3504</td>\n",
              "      <td>12.0</td>\n",
              "      <td>70</td>\n",
              "      <td>1</td>\n",
              "      <td>chevrolet chevelle malibu</td>\n",
              "    </tr>\n",
              "    <tr>\n",
              "      <th>1</th>\n",
              "      <td>15.0</td>\n",
              "      <td>8</td>\n",
              "      <td>350.0</td>\n",
              "      <td>165</td>\n",
              "      <td>3693</td>\n",
              "      <td>11.5</td>\n",
              "      <td>70</td>\n",
              "      <td>1</td>\n",
              "      <td>buick skylark 320</td>\n",
              "    </tr>\n",
              "    <tr>\n",
              "      <th>2</th>\n",
              "      <td>18.0</td>\n",
              "      <td>8</td>\n",
              "      <td>318.0</td>\n",
              "      <td>150</td>\n",
              "      <td>3436</td>\n",
              "      <td>11.0</td>\n",
              "      <td>70</td>\n",
              "      <td>1</td>\n",
              "      <td>plymouth satellite</td>\n",
              "    </tr>\n",
              "    <tr>\n",
              "      <th>3</th>\n",
              "      <td>16.0</td>\n",
              "      <td>8</td>\n",
              "      <td>304.0</td>\n",
              "      <td>150</td>\n",
              "      <td>3433</td>\n",
              "      <td>12.0</td>\n",
              "      <td>70</td>\n",
              "      <td>1</td>\n",
              "      <td>amc rebel sst</td>\n",
              "    </tr>\n",
              "    <tr>\n",
              "      <th>4</th>\n",
              "      <td>17.0</td>\n",
              "      <td>8</td>\n",
              "      <td>302.0</td>\n",
              "      <td>140</td>\n",
              "      <td>3449</td>\n",
              "      <td>10.5</td>\n",
              "      <td>70</td>\n",
              "      <td>1</td>\n",
              "      <td>ford torino</td>\n",
              "    </tr>\n",
              "  </tbody>\n",
              "</table>\n",
              "</div>\n",
              "      <button class=\"colab-df-convert\" onclick=\"convertToInteractive('df-1c3fa095-950b-4dc8-bb21-63ac7e2d8ad3')\"\n",
              "              title=\"Convert this dataframe to an interactive table.\"\n",
              "              style=\"display:none;\">\n",
              "        \n",
              "  <svg xmlns=\"http://www.w3.org/2000/svg\" height=\"24px\"viewBox=\"0 0 24 24\"\n",
              "       width=\"24px\">\n",
              "    <path d=\"M0 0h24v24H0V0z\" fill=\"none\"/>\n",
              "    <path d=\"M18.56 5.44l.94 2.06.94-2.06 2.06-.94-2.06-.94-.94-2.06-.94 2.06-2.06.94zm-11 1L8.5 8.5l.94-2.06 2.06-.94-2.06-.94L8.5 2.5l-.94 2.06-2.06.94zm10 10l.94 2.06.94-2.06 2.06-.94-2.06-.94-.94-2.06-.94 2.06-2.06.94z\"/><path d=\"M17.41 7.96l-1.37-1.37c-.4-.4-.92-.59-1.43-.59-.52 0-1.04.2-1.43.59L10.3 9.45l-7.72 7.72c-.78.78-.78 2.05 0 2.83L4 21.41c.39.39.9.59 1.41.59.51 0 1.02-.2 1.41-.59l7.78-7.78 2.81-2.81c.8-.78.8-2.07 0-2.86zM5.41 20L4 18.59l7.72-7.72 1.47 1.35L5.41 20z\"/>\n",
              "  </svg>\n",
              "      </button>\n",
              "      \n",
              "  <style>\n",
              "    .colab-df-container {\n",
              "      display:flex;\n",
              "      flex-wrap:wrap;\n",
              "      gap: 12px;\n",
              "    }\n",
              "\n",
              "    .colab-df-convert {\n",
              "      background-color: #E8F0FE;\n",
              "      border: none;\n",
              "      border-radius: 50%;\n",
              "      cursor: pointer;\n",
              "      display: none;\n",
              "      fill: #1967D2;\n",
              "      height: 32px;\n",
              "      padding: 0 0 0 0;\n",
              "      width: 32px;\n",
              "    }\n",
              "\n",
              "    .colab-df-convert:hover {\n",
              "      background-color: #E2EBFA;\n",
              "      box-shadow: 0px 1px 2px rgba(60, 64, 67, 0.3), 0px 1px 3px 1px rgba(60, 64, 67, 0.15);\n",
              "      fill: #174EA6;\n",
              "    }\n",
              "\n",
              "    [theme=dark] .colab-df-convert {\n",
              "      background-color: #3B4455;\n",
              "      fill: #D2E3FC;\n",
              "    }\n",
              "\n",
              "    [theme=dark] .colab-df-convert:hover {\n",
              "      background-color: #434B5C;\n",
              "      box-shadow: 0px 1px 3px 1px rgba(0, 0, 0, 0.15);\n",
              "      filter: drop-shadow(0px 1px 2px rgba(0, 0, 0, 0.3));\n",
              "      fill: #FFFFFF;\n",
              "    }\n",
              "  </style>\n",
              "\n",
              "      <script>\n",
              "        const buttonEl =\n",
              "          document.querySelector('#df-1c3fa095-950b-4dc8-bb21-63ac7e2d8ad3 button.colab-df-convert');\n",
              "        buttonEl.style.display =\n",
              "          google.colab.kernel.accessAllowed ? 'block' : 'none';\n",
              "\n",
              "        async function convertToInteractive(key) {\n",
              "          const element = document.querySelector('#df-1c3fa095-950b-4dc8-bb21-63ac7e2d8ad3');\n",
              "          const dataTable =\n",
              "            await google.colab.kernel.invokeFunction('convertToInteractive',\n",
              "                                                     [key], {});\n",
              "          if (!dataTable) return;\n",
              "\n",
              "          const docLinkHtml = 'Like what you see? Visit the ' +\n",
              "            '<a target=\"_blank\" href=https://colab.research.google.com/notebooks/data_table.ipynb>data table notebook</a>'\n",
              "            + ' to learn more about interactive tables.';\n",
              "          element.innerHTML = '';\n",
              "          dataTable['output_type'] = 'display_data';\n",
              "          await google.colab.output.renderOutput(dataTable, element);\n",
              "          const docLink = document.createElement('div');\n",
              "          docLink.innerHTML = docLinkHtml;\n",
              "          element.appendChild(docLink);\n",
              "        }\n",
              "      </script>\n",
              "    </div>\n",
              "  </div>\n",
              "  "
            ]
          },
          "metadata": {},
          "execution_count": 6
        }
      ]
    },
    {
      "cell_type": "code",
      "source": [
        "ds.tail()"
      ],
      "metadata": {
        "colab": {
          "base_uri": "https://localhost:8080/",
          "height": 206
        },
        "id": "9vYXUEwhdvb2",
        "outputId": "06510430-7fae-4eea-b401-840cd49a0d7d"
      },
      "execution_count": 7,
      "outputs": [
        {
          "output_type": "execute_result",
          "data": {
            "text/plain": [
              "      mpg  cylinders  displacement  horsepower  weight  acceleration  \\\n",
              "393  27.0          4         140.0          86    2790          15.6   \n",
              "394  44.0          4          97.0          52    2130          24.6   \n",
              "395  32.0          4         135.0          84    2295          11.6   \n",
              "396  28.0          4         120.0          79    2625          18.6   \n",
              "397  31.0          4         119.0          82    2720          19.4   \n",
              "\n",
              "     model year  origin         car name  \n",
              "393          82       1  ford mustang gl  \n",
              "394          82       2        vw pickup  \n",
              "395          82       1    dodge rampage  \n",
              "396          82       1      ford ranger  \n",
              "397          82       1       chevy s-10  "
            ],
            "text/html": [
              "\n",
              "  <div id=\"df-b259a6ee-9e0a-4c2f-aec5-ae59da3ed868\">\n",
              "    <div class=\"colab-df-container\">\n",
              "      <div>\n",
              "<style scoped>\n",
              "    .dataframe tbody tr th:only-of-type {\n",
              "        vertical-align: middle;\n",
              "    }\n",
              "\n",
              "    .dataframe tbody tr th {\n",
              "        vertical-align: top;\n",
              "    }\n",
              "\n",
              "    .dataframe thead th {\n",
              "        text-align: right;\n",
              "    }\n",
              "</style>\n",
              "<table border=\"1\" class=\"dataframe\">\n",
              "  <thead>\n",
              "    <tr style=\"text-align: right;\">\n",
              "      <th></th>\n",
              "      <th>mpg</th>\n",
              "      <th>cylinders</th>\n",
              "      <th>displacement</th>\n",
              "      <th>horsepower</th>\n",
              "      <th>weight</th>\n",
              "      <th>acceleration</th>\n",
              "      <th>model year</th>\n",
              "      <th>origin</th>\n",
              "      <th>car name</th>\n",
              "    </tr>\n",
              "  </thead>\n",
              "  <tbody>\n",
              "    <tr>\n",
              "      <th>393</th>\n",
              "      <td>27.0</td>\n",
              "      <td>4</td>\n",
              "      <td>140.0</td>\n",
              "      <td>86</td>\n",
              "      <td>2790</td>\n",
              "      <td>15.6</td>\n",
              "      <td>82</td>\n",
              "      <td>1</td>\n",
              "      <td>ford mustang gl</td>\n",
              "    </tr>\n",
              "    <tr>\n",
              "      <th>394</th>\n",
              "      <td>44.0</td>\n",
              "      <td>4</td>\n",
              "      <td>97.0</td>\n",
              "      <td>52</td>\n",
              "      <td>2130</td>\n",
              "      <td>24.6</td>\n",
              "      <td>82</td>\n",
              "      <td>2</td>\n",
              "      <td>vw pickup</td>\n",
              "    </tr>\n",
              "    <tr>\n",
              "      <th>395</th>\n",
              "      <td>32.0</td>\n",
              "      <td>4</td>\n",
              "      <td>135.0</td>\n",
              "      <td>84</td>\n",
              "      <td>2295</td>\n",
              "      <td>11.6</td>\n",
              "      <td>82</td>\n",
              "      <td>1</td>\n",
              "      <td>dodge rampage</td>\n",
              "    </tr>\n",
              "    <tr>\n",
              "      <th>396</th>\n",
              "      <td>28.0</td>\n",
              "      <td>4</td>\n",
              "      <td>120.0</td>\n",
              "      <td>79</td>\n",
              "      <td>2625</td>\n",
              "      <td>18.6</td>\n",
              "      <td>82</td>\n",
              "      <td>1</td>\n",
              "      <td>ford ranger</td>\n",
              "    </tr>\n",
              "    <tr>\n",
              "      <th>397</th>\n",
              "      <td>31.0</td>\n",
              "      <td>4</td>\n",
              "      <td>119.0</td>\n",
              "      <td>82</td>\n",
              "      <td>2720</td>\n",
              "      <td>19.4</td>\n",
              "      <td>82</td>\n",
              "      <td>1</td>\n",
              "      <td>chevy s-10</td>\n",
              "    </tr>\n",
              "  </tbody>\n",
              "</table>\n",
              "</div>\n",
              "      <button class=\"colab-df-convert\" onclick=\"convertToInteractive('df-b259a6ee-9e0a-4c2f-aec5-ae59da3ed868')\"\n",
              "              title=\"Convert this dataframe to an interactive table.\"\n",
              "              style=\"display:none;\">\n",
              "        \n",
              "  <svg xmlns=\"http://www.w3.org/2000/svg\" height=\"24px\"viewBox=\"0 0 24 24\"\n",
              "       width=\"24px\">\n",
              "    <path d=\"M0 0h24v24H0V0z\" fill=\"none\"/>\n",
              "    <path d=\"M18.56 5.44l.94 2.06.94-2.06 2.06-.94-2.06-.94-.94-2.06-.94 2.06-2.06.94zm-11 1L8.5 8.5l.94-2.06 2.06-.94-2.06-.94L8.5 2.5l-.94 2.06-2.06.94zm10 10l.94 2.06.94-2.06 2.06-.94-2.06-.94-.94-2.06-.94 2.06-2.06.94z\"/><path d=\"M17.41 7.96l-1.37-1.37c-.4-.4-.92-.59-1.43-.59-.52 0-1.04.2-1.43.59L10.3 9.45l-7.72 7.72c-.78.78-.78 2.05 0 2.83L4 21.41c.39.39.9.59 1.41.59.51 0 1.02-.2 1.41-.59l7.78-7.78 2.81-2.81c.8-.78.8-2.07 0-2.86zM5.41 20L4 18.59l7.72-7.72 1.47 1.35L5.41 20z\"/>\n",
              "  </svg>\n",
              "      </button>\n",
              "      \n",
              "  <style>\n",
              "    .colab-df-container {\n",
              "      display:flex;\n",
              "      flex-wrap:wrap;\n",
              "      gap: 12px;\n",
              "    }\n",
              "\n",
              "    .colab-df-convert {\n",
              "      background-color: #E8F0FE;\n",
              "      border: none;\n",
              "      border-radius: 50%;\n",
              "      cursor: pointer;\n",
              "      display: none;\n",
              "      fill: #1967D2;\n",
              "      height: 32px;\n",
              "      padding: 0 0 0 0;\n",
              "      width: 32px;\n",
              "    }\n",
              "\n",
              "    .colab-df-convert:hover {\n",
              "      background-color: #E2EBFA;\n",
              "      box-shadow: 0px 1px 2px rgba(60, 64, 67, 0.3), 0px 1px 3px 1px rgba(60, 64, 67, 0.15);\n",
              "      fill: #174EA6;\n",
              "    }\n",
              "\n",
              "    [theme=dark] .colab-df-convert {\n",
              "      background-color: #3B4455;\n",
              "      fill: #D2E3FC;\n",
              "    }\n",
              "\n",
              "    [theme=dark] .colab-df-convert:hover {\n",
              "      background-color: #434B5C;\n",
              "      box-shadow: 0px 1px 3px 1px rgba(0, 0, 0, 0.15);\n",
              "      filter: drop-shadow(0px 1px 2px rgba(0, 0, 0, 0.3));\n",
              "      fill: #FFFFFF;\n",
              "    }\n",
              "  </style>\n",
              "\n",
              "      <script>\n",
              "        const buttonEl =\n",
              "          document.querySelector('#df-b259a6ee-9e0a-4c2f-aec5-ae59da3ed868 button.colab-df-convert');\n",
              "        buttonEl.style.display =\n",
              "          google.colab.kernel.accessAllowed ? 'block' : 'none';\n",
              "\n",
              "        async function convertToInteractive(key) {\n",
              "          const element = document.querySelector('#df-b259a6ee-9e0a-4c2f-aec5-ae59da3ed868');\n",
              "          const dataTable =\n",
              "            await google.colab.kernel.invokeFunction('convertToInteractive',\n",
              "                                                     [key], {});\n",
              "          if (!dataTable) return;\n",
              "\n",
              "          const docLinkHtml = 'Like what you see? Visit the ' +\n",
              "            '<a target=\"_blank\" href=https://colab.research.google.com/notebooks/data_table.ipynb>data table notebook</a>'\n",
              "            + ' to learn more about interactive tables.';\n",
              "          element.innerHTML = '';\n",
              "          dataTable['output_type'] = 'display_data';\n",
              "          await google.colab.output.renderOutput(dataTable, element);\n",
              "          const docLink = document.createElement('div');\n",
              "          docLink.innerHTML = docLinkHtml;\n",
              "          element.appendChild(docLink);\n",
              "        }\n",
              "      </script>\n",
              "    </div>\n",
              "  </div>\n",
              "  "
            ]
          },
          "metadata": {},
          "execution_count": 7
        }
      ]
    },
    {
      "cell_type": "code",
      "source": [
        "ds['cylinders'].unique()"
      ],
      "metadata": {
        "colab": {
          "base_uri": "https://localhost:8080/"
        },
        "id": "rNwwEx5WxDgp",
        "outputId": "8a821272-1e33-4eea-cf84-925230d52d6c"
      },
      "execution_count": 8,
      "outputs": [
        {
          "output_type": "execute_result",
          "data": {
            "text/plain": [
              "array([8, 4, 6, 3, 5])"
            ]
          },
          "metadata": {},
          "execution_count": 8
        }
      ]
    },
    {
      "cell_type": "code",
      "source": [
        "ds['model year'].unique()"
      ],
      "metadata": {
        "colab": {
          "base_uri": "https://localhost:8080/"
        },
        "id": "FUFT7tx6w68Q",
        "outputId": "ac83b8ca-0eb0-45aa-c95b-e251f4b0f0c6"
      },
      "execution_count": 9,
      "outputs": [
        {
          "output_type": "execute_result",
          "data": {
            "text/plain": [
              "array([70, 71, 72, 73, 74, 75, 76, 77, 78, 79, 80, 81, 82])"
            ]
          },
          "metadata": {},
          "execution_count": 9
        }
      ]
    },
    {
      "cell_type": "code",
      "source": [
        "ds['car name'].unique()"
      ],
      "metadata": {
        "colab": {
          "base_uri": "https://localhost:8080/"
        },
        "id": "SvdYAvgdrsoq",
        "outputId": "f789e9bc-43fe-4d21-a38d-b77d743871ee"
      },
      "execution_count": 10,
      "outputs": [
        {
          "output_type": "execute_result",
          "data": {
            "text/plain": [
              "array(['chevrolet chevelle malibu', 'buick skylark 320',\n",
              "       'plymouth satellite', 'amc rebel sst', 'ford torino',\n",
              "       'ford galaxie 500', 'chevrolet impala', 'plymouth fury iii',\n",
              "       'pontiac catalina', 'amc ambassador dpl', 'dodge challenger se',\n",
              "       \"plymouth 'cuda 340\", 'chevrolet monte carlo',\n",
              "       'buick estate wagon (sw)', 'toyota corona mark ii',\n",
              "       'plymouth duster', 'amc hornet', 'ford maverick', 'datsun pl510',\n",
              "       'volkswagen 1131 deluxe sedan', 'peugeot 504', 'audi 100 ls',\n",
              "       'saab 99e', 'bmw 2002', 'amc gremlin', 'ford f250', 'chevy c20',\n",
              "       'dodge d200', 'hi 1200d', 'chevrolet vega 2300', 'toyota corona',\n",
              "       'ford pinto', 'plymouth satellite custom', 'ford torino 500',\n",
              "       'amc matador', 'pontiac catalina brougham', 'dodge monaco (sw)',\n",
              "       'ford country squire (sw)', 'pontiac safari (sw)',\n",
              "       'amc hornet sportabout (sw)', 'chevrolet vega (sw)',\n",
              "       'pontiac firebird', 'ford mustang', 'mercury capri 2000',\n",
              "       'opel 1900', 'peugeot 304', 'fiat 124b', 'toyota corolla 1200',\n",
              "       'datsun 1200', 'volkswagen model 111', 'plymouth cricket',\n",
              "       'toyota corona hardtop', 'dodge colt hardtop', 'volkswagen type 3',\n",
              "       'chevrolet vega', 'ford pinto runabout', 'amc ambassador sst',\n",
              "       'mercury marquis', 'buick lesabre custom',\n",
              "       'oldsmobile delta 88 royale', 'chrysler newport royal',\n",
              "       'mazda rx2 coupe', 'amc matador (sw)',\n",
              "       'chevrolet chevelle concours (sw)', 'ford gran torino (sw)',\n",
              "       'plymouth satellite custom (sw)', 'volvo 145e (sw)',\n",
              "       'volkswagen 411 (sw)', 'peugeot 504 (sw)', 'renault 12 (sw)',\n",
              "       'ford pinto (sw)', 'datsun 510 (sw)',\n",
              "       'toyouta corona mark ii (sw)', 'dodge colt (sw)',\n",
              "       'toyota corolla 1600 (sw)', 'buick century 350',\n",
              "       'chevrolet malibu', 'ford gran torino', 'dodge coronet custom',\n",
              "       'mercury marquis brougham', 'chevrolet caprice classic',\n",
              "       'ford ltd', 'plymouth fury gran sedan',\n",
              "       'chrysler new yorker brougham', 'buick electra 225 custom',\n",
              "       'amc ambassador brougham', 'plymouth valiant',\n",
              "       'chevrolet nova custom', 'volkswagen super beetle', 'ford country',\n",
              "       'plymouth custom suburb', 'oldsmobile vista cruiser',\n",
              "       'toyota carina', 'datsun 610', 'maxda rx3', 'mercury capri v6',\n",
              "       'fiat 124 sport coupe', 'chevrolet monte carlo s',\n",
              "       'pontiac grand prix', 'fiat 128', 'opel manta', 'audi 100ls',\n",
              "       'volvo 144ea', 'dodge dart custom', 'saab 99le', 'toyota mark ii',\n",
              "       'oldsmobile omega', 'chevrolet nova', 'datsun b210',\n",
              "       'chevrolet chevelle malibu classic', 'plymouth satellite sebring',\n",
              "       'buick century luxus (sw)', 'dodge coronet custom (sw)',\n",
              "       'audi fox', 'volkswagen dasher', 'datsun 710', 'dodge colt',\n",
              "       'fiat 124 tc', 'honda civic', 'subaru', 'fiat x1.9',\n",
              "       'plymouth valiant custom', 'mercury monarch', 'chevrolet bel air',\n",
              "       'plymouth grand fury', 'buick century',\n",
              "       'chevroelt chevelle malibu', 'plymouth fury', 'buick skyhawk',\n",
              "       'chevrolet monza 2+2', 'ford mustang ii', 'toyota corolla',\n",
              "       'pontiac astro', 'volkswagen rabbit', 'amc pacer', 'volvo 244dl',\n",
              "       'honda civic cvcc', 'fiat 131', 'capri ii', 'renault 12tl',\n",
              "       'dodge coronet brougham', 'chevrolet chevette', 'chevrolet woody',\n",
              "       'vw rabbit', 'dodge aspen se', 'ford granada ghia',\n",
              "       'pontiac ventura sj', 'amc pacer d/l', 'datsun b-210', 'volvo 245',\n",
              "       'plymouth volare premier v8', 'mercedes-benz 280s',\n",
              "       'cadillac seville', 'chevy c10', 'ford f108', 'dodge d100',\n",
              "       'honda accord cvcc', 'buick opel isuzu deluxe', 'renault 5 gtl',\n",
              "       'plymouth arrow gs', 'datsun f-10 hatchback',\n",
              "       'oldsmobile cutlass supreme', 'dodge monaco brougham',\n",
              "       'mercury cougar brougham', 'chevrolet concours', 'buick skylark',\n",
              "       'plymouth volare custom', 'ford granada', 'pontiac grand prix lj',\n",
              "       'chevrolet monte carlo landau', 'chrysler cordoba',\n",
              "       'ford thunderbird', 'volkswagen rabbit custom',\n",
              "       'pontiac sunbird coupe', 'toyota corolla liftback',\n",
              "       'ford mustang ii 2+2', 'dodge colt m/m', 'subaru dl', 'datsun 810',\n",
              "       'bmw 320i', 'mazda rx-4', 'volkswagen rabbit custom diesel',\n",
              "       'ford fiesta', 'mazda glc deluxe', 'datsun b210 gx',\n",
              "       'oldsmobile cutlass salon brougham', 'dodge diplomat',\n",
              "       'mercury monarch ghia', 'pontiac phoenix lj',\n",
              "       'ford fairmont (auto)', 'ford fairmont (man)', 'plymouth volare',\n",
              "       'amc concord', 'buick century special', 'mercury zephyr',\n",
              "       'dodge aspen', 'amc concord d/l',\n",
              "       'buick regal sport coupe (turbo)', 'ford futura',\n",
              "       'dodge magnum xe', 'datsun 510', 'dodge omni',\n",
              "       'toyota celica gt liftback', 'plymouth sapporo',\n",
              "       'oldsmobile starfire sx', 'datsun 200-sx', 'audi 5000',\n",
              "       'volvo 264gl', 'saab 99gle', 'peugeot 604sl',\n",
              "       'volkswagen scirocco', 'honda accord lx', 'pontiac lemans v6',\n",
              "       'mercury zephyr 6', 'ford fairmont 4', 'amc concord dl 6',\n",
              "       'dodge aspen 6', 'ford ltd landau', 'mercury grand marquis',\n",
              "       'dodge st. regis', 'chevrolet malibu classic (sw)',\n",
              "       'chrysler lebaron town @ country (sw)', 'vw rabbit custom',\n",
              "       'maxda glc deluxe', 'dodge colt hatchback custom', 'amc spirit dl',\n",
              "       'mercedes benz 300d', 'cadillac eldorado', 'plymouth horizon',\n",
              "       'plymouth horizon tc3', 'datsun 210', 'fiat strada custom',\n",
              "       'buick skylark limited', 'chevrolet citation',\n",
              "       'oldsmobile omega brougham', 'pontiac phoenix',\n",
              "       'toyota corolla tercel', 'datsun 310', 'ford fairmont',\n",
              "       'audi 4000', 'toyota corona liftback', 'mazda 626',\n",
              "       'datsun 510 hatchback', 'mazda glc', 'vw rabbit c (diesel)',\n",
              "       'vw dasher (diesel)', 'audi 5000s (diesel)', 'mercedes-benz 240d',\n",
              "       'honda civic 1500 gl', 'renault lecar deluxe', 'vokswagen rabbit',\n",
              "       'datsun 280-zx', 'mazda rx-7 gs', 'triumph tr7 coupe',\n",
              "       'ford mustang cobra', 'honda accord', 'plymouth reliant',\n",
              "       'dodge aries wagon (sw)', 'toyota starlet', 'plymouth champ',\n",
              "       'honda civic 1300', 'datsun 210 mpg', 'toyota tercel',\n",
              "       'mazda glc 4', 'plymouth horizon 4', 'ford escort 4w',\n",
              "       'ford escort 2h', 'volkswagen jetta', 'renault 18i',\n",
              "       'honda prelude', 'datsun 200sx', 'peugeot 505s turbo diesel',\n",
              "       'volvo diesel', 'toyota cressida', 'datsun 810 maxima',\n",
              "       'oldsmobile cutlass ls', 'ford granada gl',\n",
              "       'chrysler lebaron salon', 'chevrolet cavalier',\n",
              "       'chevrolet cavalier wagon', 'chevrolet cavalier 2-door',\n",
              "       'pontiac j2000 se hatchback', 'dodge aries se',\n",
              "       'ford fairmont futura', 'amc concord dl', 'volkswagen rabbit l',\n",
              "       'mazda glc custom l', 'mazda glc custom', 'plymouth horizon miser',\n",
              "       'mercury lynx l', 'nissan stanza xe', 'honda civic (auto)',\n",
              "       'datsun 310 gx', 'buick century limited',\n",
              "       'oldsmobile cutlass ciera (diesel)', 'chrysler lebaron medallion',\n",
              "       'ford granada l', 'toyota celica gt', 'dodge charger 2.2',\n",
              "       'chevrolet camaro', 'ford mustang gl', 'vw pickup',\n",
              "       'dodge rampage', 'ford ranger', 'chevy s-10'], dtype=object)"
            ]
          },
          "metadata": {},
          "execution_count": 10
        }
      ]
    },
    {
      "cell_type": "code",
      "source": [
        "from sklearn.preprocessing import LabelEncoder\n",
        "le = LabelEncoder()\n",
        "ds['car name']= le.fit_transform(ds['car name'])\n",
        "ds['car name'].unique()"
      ],
      "metadata": {
        "colab": {
          "base_uri": "https://localhost:8080/"
        },
        "id": "4TcmgokStXG_",
        "outputId": "787c5c01-54d8-453d-9794-eb5e0971cdcb"
      },
      "execution_count": 11,
      "outputs": [
        {
          "output_type": "execute_result",
          "data": {
            "text/plain": [
              "array([ 49,  36, 231,  14, 161, 141,  54, 223, 241,   1, 101, 215,  57,\n",
              "        30, 274, 220,   8, 150,  95, 282, 211,  16, 258,  22,   7, 133,\n",
              "        68, 112, 163,  65, 271, 156, 232, 162,  10, 242, 116, 129, 250,\n",
              "         9,  64, 243, 151, 187, 208, 210, 123, 267,  76, 286, 218, 272,\n",
              "       105, 293,  63, 158,   2, 192,  31, 203,  75, 183,  11,  48, 143,\n",
              "       233, 295, 283, 212, 253, 157,  85, 279, 104, 268,  25,  55, 142,\n",
              "       109, 193,  44, 148, 222,  74,  29,   0, 235,  62, 292, 128, 219,\n",
              "       207, 263,  87, 174, 188, 121,  59, 244, 124, 209,  17, 294, 113,\n",
              "       260, 276, 204,  61,  92,  50, 234,  27, 110,  21, 284,  88, 103,\n",
              "       122, 167, 261, 127, 236, 194,  42, 224,  24,  41, 221,  34,  60,\n",
              "       154, 266, 240, 287,  12, 296, 171, 125,  40, 254, 108,  51,  66,\n",
              "       302, 100, 145, 252,  13,  91, 297, 239, 186,  39,  67, 132, 111,\n",
              "       165,  32, 256, 216,  94, 202, 117, 189,  53,  35, 238, 144, 245,\n",
              "        58,  70, 160, 288, 251, 269, 155, 107, 262,  89,  23, 181, 289,\n",
              "       139, 180,  93, 201, 114, 195, 249, 135, 136, 237,   3,  28, 196,\n",
              "        98,   4,  33, 140, 115,  84, 118, 265, 230, 206,  77,  19, 298,\n",
              "       259, 214, 291, 166, 247, 197, 137,   6,  99, 149, 190, 120,  56,\n",
              "        73, 304, 173, 106,  15, 184,  38, 225, 228,  79, 126,  37,  52,\n",
              "       205, 248, 270,  82, 134,  18, 273, 175,  86, 176, 303, 300,  20,\n",
              "       185, 170, 257, 281,  81, 182, 280, 152, 164, 229,  97, 277, 217,\n",
              "       169,  80, 278, 177, 226, 131, 130, 285, 255, 172,  78, 213, 299,\n",
              "       275,  90, 200, 146,  72,  45,  47,  46, 246,  96, 138,   5, 290,\n",
              "       179, 178, 227, 191, 198, 168,  83,  26, 199,  71, 147, 264, 102,\n",
              "        43, 153, 301, 119, 159,  69])"
            ]
          },
          "metadata": {},
          "execution_count": 11
        }
      ]
    },
    {
      "cell_type": "code",
      "source": [
        "sns.heatmap(ds.corr(), annot=True)"
      ],
      "metadata": {
        "colab": {
          "base_uri": "https://localhost:8080/",
          "height": 344
        },
        "id": "h_bwQAOOuGzf",
        "outputId": "e0c280df-5f57-41a4-ad29-ce9396f93835"
      },
      "execution_count": 12,
      "outputs": [
        {
          "output_type": "execute_result",
          "data": {
            "text/plain": [
              "<matplotlib.axes._subplots.AxesSubplot at 0x7f862a6587d0>"
            ]
          },
          "metadata": {},
          "execution_count": 12
        },
        {
          "output_type": "display_data",
          "data": {
            "text/plain": [
              "<Figure size 432x288 with 2 Axes>"
            ],
            "image/png": "[encoded data removed]"
          },
          "metadata": {
            "needs_background": "light"
          }
        }
      ]
    },
    {
      "cell_type": "code",
      "source": [
        "data = ds.drop(columns=['displacement', 'acceleration', 'car name'])\n",
        "X = data.iloc[:, 1:]\n",
        "Y = data['mpg']"
      ],
      "metadata": {
        "id": "d7BtbPAuws0B"
      },
      "execution_count": 13,
      "outputs": []
    },
    {
      "cell_type": "code",
      "source": [
        "ds.shape"
      ],
      "metadata": {
        "colab": {
          "base_uri": "https://localhost:8080/"
        },
        "id": "q3SmemePdvgn",
        "outputId": "d0d0eb31-2fe3-44a9-9d65-03be6739796b"
      },
      "execution_count": 14,
      "outputs": [
        {
          "output_type": "execute_result",
          "data": {
            "text/plain": [
              "(398, 9)"
            ]
          },
          "metadata": {},
          "execution_count": 14
        }
      ]
    },
    {
      "cell_type": "code",
      "source": [
        "ds.dtypes"
      ],
      "metadata": {
        "colab": {
          "base_uri": "https://localhost:8080/"
        },
        "id": "zCcLdHaRd6z2",
        "outputId": "647d2d0a-10e8-4988-9d17-61355e4f0415"
      },
      "execution_count": 15,
      "outputs": [
        {
          "output_type": "execute_result",
          "data": {
            "text/plain": [
              "mpg             float64\n",
              "cylinders         int64\n",
              "displacement    float64\n",
              "horsepower        int64\n",
              "weight            int64\n",
              "acceleration    float64\n",
              "model year        int64\n",
              "origin            int64\n",
              "car name          int64\n",
              "dtype: object"
            ]
          },
          "metadata": {},
          "execution_count": 15
        }
      ]
    },
    {
      "cell_type": "code",
      "source": [
        "ds.duplicated()"
      ],
      "metadata": {
        "colab": {
          "base_uri": "https://localhost:8080/"
        },
        "id": "CVaTzFgtd68m",
        "outputId": "523f9a2c-ef96-47c2-9120-c8e0a10ba505"
      },
      "execution_count": 16,
      "outputs": [
        {
          "output_type": "execute_result",
          "data": {
            "text/plain": [
              "0      False\n",
              "1      False\n",
              "2      False\n",
              "3      False\n",
              "4      False\n",
              "       ...  \n",
              "393    False\n",
              "394    False\n",
              "395    False\n",
              "396    False\n",
              "397    False\n",
              "Length: 398, dtype: bool"
            ]
          },
          "metadata": {},
          "execution_count": 16
        }
      ]
    },
    {
      "cell_type": "code",
      "source": [
        "ds.duplicated().sum()"
      ],
      "metadata": {
        "colab": {
          "base_uri": "https://localhost:8080/"
        },
        "id": "UcitLT4aeGk8",
        "outputId": "b0021595-a51e-4be8-fb7b-6a8854014589"
      },
      "execution_count": 17,
      "outputs": [
        {
          "output_type": "execute_result",
          "data": {
            "text/plain": [
              "0"
            ]
          },
          "metadata": {},
          "execution_count": 17
        }
      ]
    },
    {
      "cell_type": "code",
      "source": [
        "ds.isna().sum()"
      ],
      "metadata": {
        "colab": {
          "base_uri": "https://localhost:8080/"
        },
        "id": "QTvUBEh2eGpT",
        "outputId": "5cd632b2-d4ee-47b5-e6c8-fd84a2d3ec87"
      },
      "execution_count": 18,
      "outputs": [
        {
          "output_type": "execute_result",
          "data": {
            "text/plain": [
              "mpg             0\n",
              "cylinders       0\n",
              "displacement    0\n",
              "horsepower      0\n",
              "weight          0\n",
              "acceleration    0\n",
              "model year      0\n",
              "origin          0\n",
              "car name        0\n",
              "dtype: int64"
            ]
          },
          "metadata": {},
          "execution_count": 18
        }
      ]
    },
    {
      "cell_type": "code",
      "source": [
        "ds.columns"
      ],
      "metadata": {
        "colab": {
          "base_uri": "https://localhost:8080/"
        },
        "id": "8rRXcEgQeGtE",
        "outputId": "b8fb7316-2d70-42e6-d353-96f80fb77e64"
      },
      "execution_count": 19,
      "outputs": [
        {
          "output_type": "execute_result",
          "data": {
            "text/plain": [
              "Index(['mpg', 'cylinders', 'displacement', 'horsepower', 'weight',\n",
              "       'acceleration', 'model year', 'origin', 'car name'],\n",
              "      dtype='object')"
            ]
          },
          "metadata": {},
          "execution_count": 19
        }
      ]
    },
    {
      "cell_type": "code",
      "source": [
        "ds.info()"
      ],
      "metadata": {
        "colab": {
          "base_uri": "https://localhost:8080/"
        },
        "id": "c5I-znB0eGwe",
        "outputId": "71f2c389-45cf-4163-dd14-49ce57d61045"
      },
      "execution_count": 20,
      "outputs": [
        {
          "output_type": "stream",
          "name": "stdout",
          "text": [
            "<class 'pandas.core.frame.DataFrame'>\n",
            "RangeIndex: 398 entries, 0 to 397\n",
            "Data columns (total 9 columns):\n",
            " #   Column        Non-Null Count  Dtype  \n",
            "---  ------        --------------  -----  \n",
            " 0   mpg           398 non-null    float64\n",
            " 1   cylinders     398 non-null    int64  \n",
            " 2   displacement  398 non-null    float64\n",
            " 3   horsepower    398 non-null    int64  \n",
            " 4   weight        398 non-null    int64  \n",
            " 5   acceleration  398 non-null    float64\n",
            " 6   model year    398 non-null    int64  \n",
            " 7   origin        398 non-null    int64  \n",
            " 8   car name      398 non-null    int64  \n",
            "dtypes: float64(3), int64(6)\n",
            "memory usage: 28.1 KB\n"
          ]
        }
      ]
    },
    {
      "cell_type": "code",
      "source": [
        "ds.describe().T"
      ],
      "metadata": {
        "colab": {
          "base_uri": "https://localhost:8080/",
          "height": 332
        },
        "id": "oVGsaoUIeGzF",
        "outputId": "c1ae42e7-42d5-4d27-d9cd-51c9be1f91d1"
      },
      "execution_count": 21,
      "outputs": [
        {
          "output_type": "execute_result",
          "data": {
            "text/plain": [
              "              count         mean         std     min       25%     50%  \\\n",
              "mpg           398.0    23.514573    7.815984     9.0    17.500    23.0   \n",
              "cylinders     398.0     5.454774    1.701004     3.0     4.000     4.0   \n",
              "displacement  398.0   193.425879  104.269838    68.0   104.250   148.5   \n",
              "horsepower    398.0   104.165829   38.298676    46.0    75.000    92.0   \n",
              "weight        398.0  2970.424623  846.841774  1613.0  2223.750  2803.5   \n",
              "acceleration  398.0    15.568090    2.757689     8.0    13.825    15.5   \n",
              "model year    398.0    76.010050    3.697627    70.0    73.000    76.0   \n",
              "origin        398.0     1.572864    0.802055     1.0     1.000     1.0   \n",
              "car name      398.0   148.550251   89.495880     0.0    65.250   150.0   \n",
              "\n",
              "                   75%     max  \n",
              "mpg             29.000    46.6  \n",
              "cylinders        8.000     8.0  \n",
              "displacement   262.000   455.0  \n",
              "horsepower     125.000   230.0  \n",
              "weight        3608.000  5140.0  \n",
              "acceleration    17.175    24.8  \n",
              "model year      79.000    82.0  \n",
              "origin           2.000     3.0  \n",
              "car name       225.750   304.0  "
            ],
            "text/html": [
              "\n",
              "  <div id=\"df-dba84568-d871-403c-84e5-59991e18255c\">\n",
              "    <div class=\"colab-df-container\">\n",
              "      <div>\n",
              "<style scoped>\n",
              "    .dataframe tbody tr th:only-of-type {\n",
              "        vertical-align: middle;\n",
              "    }\n",
              "\n",
              "    .dataframe tbody tr th {\n",
              "        vertical-align: top;\n",
              "    }\n",
              "\n",
              "    .dataframe thead th {\n",
              "        text-align: right;\n",
              "    }\n",
              "</style>\n",
              "<table border=\"1\" class=\"dataframe\">\n",
              "  <thead>\n",
              "    <tr style=\"text-align: right;\">\n",
              "      <th></th>\n",
              "      <th>count</th>\n",
              "      <th>mean</th>\n",
              "      <th>std</th>\n",
              "      <th>min</th>\n",
              "      <th>25%</th>\n",
              "      <th>50%</th>\n",
              "      <th>75%</th>\n",
              "      <th>max</th>\n",
              "    </tr>\n",
              "  </thead>\n",
              "  <tbody>\n",
              "    <tr>\n",
              "      <th>mpg</th>\n",
              "      <td>398.0</td>\n",
              "      <td>23.514573</td>\n",
              "      <td>7.815984</td>\n",
              "      <td>9.0</td>\n",
              "      <td>17.500</td>\n",
              "      <td>23.0</td>\n",
              "      <td>29.000</td>\n",
              "      <td>46.6</td>\n",
              "    </tr>\n",
              "    <tr>\n",
              "      <th>cylinders</th>\n",
              "      <td>398.0</td>\n",
              "      <td>5.454774</td>\n",
              "      <td>1.701004</td>\n",
              "      <td>3.0</td>\n",
              "      <td>4.000</td>\n",
              "      <td>4.0</td>\n",
              "      <td>8.000</td>\n",
              "      <td>8.0</td>\n",
              "    </tr>\n",
              "    <tr>\n",
              "      <th>displacement</th>\n",
              "      <td>398.0</td>\n",
              "      <td>193.425879</td>\n",
              "      <td>104.269838</td>\n",
              "      <td>68.0</td>\n",
              "      <td>104.250</td>\n",
              "      <td>148.5</td>\n",
              "      <td>262.000</td>\n",
              "      <td>455.0</td>\n",
              "    </tr>\n",
              "    <tr>\n",
              "      <th>horsepower</th>\n",
              "      <td>398.0</td>\n",
              "      <td>104.165829</td>\n",
              "      <td>38.298676</td>\n",
              "      <td>46.0</td>\n",
              "      <td>75.000</td>\n",
              "      <td>92.0</td>\n",
              "      <td>125.000</td>\n",
              "      <td>230.0</td>\n",
              "    </tr>\n",
              "    <tr>\n",
              "      <th>weight</th>\n",
              "      <td>398.0</td>\n",
              "      <td>2970.424623</td>\n",
              "      <td>846.841774</td>\n",
              "      <td>1613.0</td>\n",
              "      <td>2223.750</td>\n",
              "      <td>2803.5</td>\n",
              "      <td>3608.000</td>\n",
              "      <td>5140.0</td>\n",
              "    </tr>\n",
              "    <tr>\n",
              "      <th>acceleration</th>\n",
              "      <td>398.0</td>\n",
              "      <td>15.568090</td>\n",
              "      <td>2.757689</td>\n",
              "      <td>8.0</td>\n",
              "      <td>13.825</td>\n",
              "      <td>15.5</td>\n",
              "      <td>17.175</td>\n",
              "      <td>24.8</td>\n",
              "    </tr>\n",
              "    <tr>\n",
              "      <th>model year</th>\n",
              "      <td>398.0</td>\n",
              "      <td>76.010050</td>\n",
              "      <td>3.697627</td>\n",
              "      <td>70.0</td>\n",
              "      <td>73.000</td>\n",
              "      <td>76.0</td>\n",
              "      <td>79.000</td>\n",
              "      <td>82.0</td>\n",
              "    </tr>\n",
              "    <tr>\n",
              "      <th>origin</th>\n",
              "      <td>398.0</td>\n",
              "      <td>1.572864</td>\n",
              "      <td>0.802055</td>\n",
              "      <td>1.0</td>\n",
              "      <td>1.000</td>\n",
              "      <td>1.0</td>\n",
              "      <td>2.000</td>\n",
              "      <td>3.0</td>\n",
              "    </tr>\n",
              "    <tr>\n",
              "      <th>car name</th>\n",
              "      <td>398.0</td>\n",
              "      <td>148.550251</td>\n",
              "      <td>89.495880</td>\n",
              "      <td>0.0</td>\n",
              "      <td>65.250</td>\n",
              "      <td>150.0</td>\n",
              "      <td>225.750</td>\n",
              "      <td>304.0</td>\n",
              "    </tr>\n",
              "  </tbody>\n",
              "</table>\n",
              "</div>\n",
              "      <button class=\"colab-df-convert\" onclick=\"convertToInteractive('df-dba84568-d871-403c-84e5-59991e18255c')\"\n",
              "              title=\"Convert this dataframe to an interactive table.\"\n",
              "              style=\"display:none;\">\n",
              "        \n",
              "  <svg xmlns=\"http://www.w3.org/2000/svg\" height=\"24px\"viewBox=\"0 0 24 24\"\n",
              "       width=\"24px\">\n",
              "    <path d=\"M0 0h24v24H0V0z\" fill=\"none\"/>\n",
              "    <path d=\"M18.56 5.44l.94 2.06.94-2.06 2.06-.94-2.06-.94-.94-2.06-.94 2.06-2.06.94zm-11 1L8.5 8.5l.94-2.06 2.06-.94-2.06-.94L8.5 2.5l-.94 2.06-2.06.94zm10 10l.94 2.06.94-2.06 2.06-.94-2.06-.94-.94-2.06-.94 2.06-2.06.94z\"/><path d=\"M17.41 7.96l-1.37-1.37c-.4-.4-.92-.59-1.43-.59-.52 0-1.04.2-1.43.59L10.3 9.45l-7.72 7.72c-.78.78-.78 2.05 0 2.83L4 21.41c.39.39.9.59 1.41.59.51 0 1.02-.2 1.41-.59l7.78-7.78 2.81-2.81c.8-.78.8-2.07 0-2.86zM5.41 20L4 18.59l7.72-7.72 1.47 1.35L5.41 20z\"/>\n",
              "  </svg>\n",
              "      </button>\n",
              "      \n",
              "  <style>\n",
              "    .colab-df-container {\n",
              "      display:flex;\n",
              "      flex-wrap:wrap;\n",
              "      gap: 12px;\n",
              "    }\n",
              "\n",
              "    .colab-df-convert {\n",
              "      background-color: #E8F0FE;\n",
              "      border: none;\n",
              "      border-radius: 50%;\n",
              "      cursor: pointer;\n",
              "      display: none;\n",
              "      fill: #1967D2;\n",
              "      height: 32px;\n",
              "      padding: 0 0 0 0;\n",
              "      width: 32px;\n",
              "    }\n",
              "\n",
              "    .colab-df-convert:hover {\n",
              "      background-color: #E2EBFA;\n",
              "      box-shadow: 0px 1px 2px rgba(60, 64, 67, 0.3), 0px 1px 3px 1px rgba(60, 64, 67, 0.15);\n",
              "      fill: #174EA6;\n",
              "    }\n",
              "\n",
              "    [theme=dark] .colab-df-convert {\n",
              "      background-color: #3B4455;\n",
              "      fill: #D2E3FC;\n",
              "    }\n",
              "\n",
              "    [theme=dark] .colab-df-convert:hover {\n",
              "      background-color: #434B5C;\n",
              "      box-shadow: 0px 1px 3px 1px rgba(0, 0, 0, 0.15);\n",
              "      filter: drop-shadow(0px 1px 2px rgba(0, 0, 0, 0.3));\n",
              "      fill: #FFFFFF;\n",
              "    }\n",
              "  </style>\n",
              "\n",
              "      <script>\n",
              "        const buttonEl =\n",
              "          document.querySelector('#df-dba84568-d871-403c-84e5-59991e18255c button.colab-df-convert');\n",
              "        buttonEl.style.display =\n",
              "          google.colab.kernel.accessAllowed ? 'block' : 'none';\n",
              "\n",
              "        async function convertToInteractive(key) {\n",
              "          const element = document.querySelector('#df-dba84568-d871-403c-84e5-59991e18255c');\n",
              "          const dataTable =\n",
              "            await google.colab.kernel.invokeFunction('convertToInteractive',\n",
              "                                                     [key], {});\n",
              "          if (!dataTable) return;\n",
              "\n",
              "          const docLinkHtml = 'Like what you see? Visit the ' +\n",
              "            '<a target=\"_blank\" href=https://colab.research.google.com/notebooks/data_table.ipynb>data table notebook</a>'\n",
              "            + ' to learn more about interactive tables.';\n",
              "          element.innerHTML = '';\n",
              "          dataTable['output_type'] = 'display_data';\n",
              "          await google.colab.output.renderOutput(dataTable, element);\n",
              "          const docLink = document.createElement('div');\n",
              "          docLink.innerHTML = docLinkHtml;\n",
              "          element.appendChild(docLink);\n",
              "        }\n",
              "      </script>\n",
              "    </div>\n",
              "  </div>\n",
              "  "
            ]
          },
          "metadata": {},
          "execution_count": 21
        }
      ]
    },
    {
      "cell_type": "code",
      "source": [
        "ds.corr()"
      ],
      "metadata": {
        "colab": {
          "base_uri": "https://localhost:8080/",
          "height": 332
        },
        "id": "PD-YrDXFek3T",
        "outputId": "41b78e5b-914e-4aef-adb8-f75d88f872c0"
      },
      "execution_count": 22,
      "outputs": [
        {
          "output_type": "execute_result",
          "data": {
            "text/plain": [
              "                   mpg  cylinders  displacement  horsepower    weight  \\\n",
              "mpg           1.000000  -0.775396     -0.804203   -0.777501 -0.831741   \n",
              "cylinders    -0.775396   1.000000      0.950721    0.842437  0.896017   \n",
              "displacement -0.804203   0.950721      1.000000    0.897082  0.932824   \n",
              "horsepower   -0.777501   0.842437      0.897082    1.000000  0.863990   \n",
              "weight       -0.831741   0.896017      0.932824    0.863990  1.000000   \n",
              "acceleration  0.420289  -0.505419     -0.543684   -0.686436 -0.417457   \n",
              "model year    0.579267  -0.348746     -0.370164   -0.417081 -0.306564   \n",
              "origin        0.563450  -0.562543     -0.609409   -0.452386 -0.581024   \n",
              "car name      0.273936  -0.275754     -0.292064   -0.236600 -0.255247   \n",
              "\n",
              "              acceleration  model year    origin  car name  \n",
              "mpg               0.420289    0.579267  0.563450  0.273936  \n",
              "cylinders        -0.505419   -0.348746 -0.562543 -0.275754  \n",
              "displacement     -0.543684   -0.370164 -0.609409 -0.292064  \n",
              "horsepower       -0.686436   -0.417081 -0.452386 -0.236600  \n",
              "weight           -0.417457   -0.306564 -0.581024 -0.255247  \n",
              "acceleration      1.000000    0.288137  0.205873  0.128285  \n",
              "model year        0.288137    1.000000  0.180662  0.074761  \n",
              "origin            0.205873    0.180662  1.000000  0.360058  \n",
              "car name          0.128285    0.074761  0.360058  1.000000  "
            ],
            "text/html": [
              "\n",
              "  <div id=\"df-253a1b55-d584-4bc9-8d40-219120eb1660\">\n",
              "    <div class=\"colab-df-container\">\n",
              "      <div>\n",
              "<style scoped>\n",
              "    .dataframe tbody tr th:only-of-type {\n",
              "        vertical-align: middle;\n",
              "    }\n",
              "\n",
              "    .dataframe tbody tr th {\n",
              "        vertical-align: top;\n",
              "    }\n",
              "\n",
              "    .dataframe thead th {\n",
              "        text-align: right;\n",
              "    }\n",
              "</style>\n",
              "<table border=\"1\" class=\"dataframe\">\n",
              "  <thead>\n",
              "    <tr style=\"text-align: right;\">\n",
              "      <th></th>\n",
              "      <th>mpg</th>\n",
              "      <th>cylinders</th>\n",
              "      <th>displacement</th>\n",
              "      <th>horsepower</th>\n",
              "      <th>weight</th>\n",
              "      <th>acceleration</th>\n",
              "      <th>model year</th>\n",
              "      <th>origin</th>\n",
              "      <th>car name</th>\n",
              "    </tr>\n",
              "  </thead>\n",
              "  <tbody>\n",
              "    <tr>\n",
              "      <th>mpg</th>\n",
              "      <td>1.000000</td>\n",
              "      <td>-0.775396</td>\n",
              "      <td>-0.804203</td>\n",
              "      <td>-0.777501</td>\n",
              "      <td>-0.831741</td>\n",
              "      <td>0.420289</td>\n",
              "      <td>0.579267</td>\n",
              "      <td>0.563450</td>\n",
              "      <td>0.273936</td>\n",
              "    </tr>\n",
              "    <tr>\n",
              "      <th>cylinders</th>\n",
              "      <td>-0.775396</td>\n",
              "      <td>1.000000</td>\n",
              "      <td>0.950721</td>\n",
              "      <td>0.842437</td>\n",
              "      <td>0.896017</td>\n",
              "      <td>-0.505419</td>\n",
              "      <td>-0.348746</td>\n",
              "      <td>-0.562543</td>\n",
              "      <td>-0.275754</td>\n",
              "    </tr>\n",
              "    <tr>\n",
              "      <th>displacement</th>\n",
              "      <td>-0.804203</td>\n",
              "      <td>0.950721</td>\n",
              "      <td>1.000000</td>\n",
              "      <td>0.897082</td>\n",
              "      <td>0.932824</td>\n",
              "      <td>-0.543684</td>\n",
              "      <td>-0.370164</td>\n",
              "      <td>-0.609409</td>\n",
              "      <td>-0.292064</td>\n",
              "    </tr>\n",
              "    <tr>\n",
              "      <th>horsepower</th>\n",
              "      <td>-0.777501</td>\n",
              "      <td>0.842437</td>\n",
              "      <td>0.897082</td>\n",
              "      <td>1.000000</td>\n",
              "      <td>0.863990</td>\n",
              "      <td>-0.686436</td>\n",
              "      <td>-0.417081</td>\n",
              "      <td>-0.452386</td>\n",
              "      <td>-0.236600</td>\n",
              "    </tr>\n",
              "    <tr>\n",
              "      <th>weight</th>\n",
              "      <td>-0.831741</td>\n",
              "      <td>0.896017</td>\n",
              "      <td>0.932824</td>\n",
              "      <td>0.863990</td>\n",
              "      <td>1.000000</td>\n",
              "      <td>-0.417457</td>\n",
              "      <td>-0.306564</td>\n",
              "      <td>-0.581024</td>\n",
              "      <td>-0.255247</td>\n",
              "    </tr>\n",
              "    <tr>\n",
              "      <th>acceleration</th>\n",
              "      <td>0.420289</td>\n",
              "      <td>-0.505419</td>\n",
              "      <td>-0.543684</td>\n",
              "      <td>-0.686436</td>\n",
              "      <td>-0.417457</td>\n",
              "      <td>1.000000</td>\n",
              "      <td>0.288137</td>\n",
              "      <td>0.205873</td>\n",
              "      <td>0.128285</td>\n",
              "    </tr>\n",
              "    <tr>\n",
              "      <th>model year</th>\n",
              "      <td>0.579267</td>\n",
              "      <td>-0.348746</td>\n",
              "      <td>-0.370164</td>\n",
              "      <td>-0.417081</td>\n",
              "      <td>-0.306564</td>\n",
              "      <td>0.288137</td>\n",
              "      <td>1.000000</td>\n",
              "      <td>0.180662</td>\n",
              "      <td>0.074761</td>\n",
              "    </tr>\n",
              "    <tr>\n",
              "      <th>origin</th>\n",
              "      <td>0.563450</td>\n",
              "      <td>-0.562543</td>\n",
              "      <td>-0.609409</td>\n",
              "      <td>-0.452386</td>\n",
              "      <td>-0.581024</td>\n",
              "      <td>0.205873</td>\n",
              "      <td>0.180662</td>\n",
              "      <td>1.000000</td>\n",
              "      <td>0.360058</td>\n",
              "    </tr>\n",
              "    <tr>\n",
              "      <th>car name</th>\n",
              "      <td>0.273936</td>\n",
              "      <td>-0.275754</td>\n",
              "      <td>-0.292064</td>\n",
              "      <td>-0.236600</td>\n",
              "      <td>-0.255247</td>\n",
              "      <td>0.128285</td>\n",
              "      <td>0.074761</td>\n",
              "      <td>0.360058</td>\n",
              "      <td>1.000000</td>\n",
              "    </tr>\n",
              "  </tbody>\n",
              "</table>\n",
              "</div>\n",
              "      <button class=\"colab-df-convert\" onclick=\"convertToInteractive('df-253a1b55-d584-4bc9-8d40-219120eb1660')\"\n",
              "              title=\"Convert this dataframe to an interactive table.\"\n",
              "              style=\"display:none;\">\n",
              "        \n",
              "  <svg xmlns=\"http://www.w3.org/2000/svg\" height=\"24px\"viewBox=\"0 0 24 24\"\n",
              "       width=\"24px\">\n",
              "    <path d=\"M0 0h24v24H0V0z\" fill=\"none\"/>\n",
              "    <path d=\"M18.56 5.44l.94 2.06.94-2.06 2.06-.94-2.06-.94-.94-2.06-.94 2.06-2.06.94zm-11 1L8.5 8.5l.94-2.06 2.06-.94-2.06-.94L8.5 2.5l-.94 2.06-2.06.94zm10 10l.94 2.06.94-2.06 2.06-.94-2.06-.94-.94-2.06-.94 2.06-2.06.94z\"/><path d=\"M17.41 7.96l-1.37-1.37c-.4-.4-.92-.59-1.43-.59-.52 0-1.04.2-1.43.59L10.3 9.45l-7.72 7.72c-.78.78-.78 2.05 0 2.83L4 21.41c.39.39.9.59 1.41.59.51 0 1.02-.2 1.41-.59l7.78-7.78 2.81-2.81c.8-.78.8-2.07 0-2.86zM5.41 20L4 18.59l7.72-7.72 1.47 1.35L5.41 20z\"/>\n",
              "  </svg>\n",
              "      </button>\n",
              "      \n",
              "  <style>\n",
              "    .colab-df-container {\n",
              "      display:flex;\n",
              "      flex-wrap:wrap;\n",
              "      gap: 12px;\n",
              "    }\n",
              "\n",
              "    .colab-df-convert {\n",
              "      background-color: #E8F0FE;\n",
              "      border: none;\n",
              "      border-radius: 50%;\n",
              "      cursor: pointer;\n",
              "      display: none;\n",
              "      fill: #1967D2;\n",
              "      height: 32px;\n",
              "      padding: 0 0 0 0;\n",
              "      width: 32px;\n",
              "    }\n",
              "\n",
              "    .colab-df-convert:hover {\n",
              "      background-color: #E2EBFA;\n",
              "      box-shadow: 0px 1px 2px rgba(60, 64, 67, 0.3), 0px 1px 3px 1px rgba(60, 64, 67, 0.15);\n",
              "      fill: #174EA6;\n",
              "    }\n",
              "\n",
              "    [theme=dark] .colab-df-convert {\n",
              "      background-color: #3B4455;\n",
              "      fill: #D2E3FC;\n",
              "    }\n",
              "\n",
              "    [theme=dark] .colab-df-convert:hover {\n",
              "      background-color: #434B5C;\n",
              "      box-shadow: 0px 1px 3px 1px rgba(0, 0, 0, 0.15);\n",
              "      filter: drop-shadow(0px 1px 2px rgba(0, 0, 0, 0.3));\n",
              "      fill: #FFFFFF;\n",
              "    }\n",
              "  </style>\n",
              "\n",
              "      <script>\n",
              "        const buttonEl =\n",
              "          document.querySelector('#df-253a1b55-d584-4bc9-8d40-219120eb1660 button.colab-df-convert');\n",
              "        buttonEl.style.display =\n",
              "          google.colab.kernel.accessAllowed ? 'block' : 'none';\n",
              "\n",
              "        async function convertToInteractive(key) {\n",
              "          const element = document.querySelector('#df-253a1b55-d584-4bc9-8d40-219120eb1660');\n",
              "          const dataTable =\n",
              "            await google.colab.kernel.invokeFunction('convertToInteractive',\n",
              "                                                     [key], {});\n",
              "          if (!dataTable) return;\n",
              "\n",
              "          const docLinkHtml = 'Like what you see? Visit the ' +\n",
              "            '<a target=\"_blank\" href=https://colab.research.google.com/notebooks/data_table.ipynb>data table notebook</a>'\n",
              "            + ' to learn more about interactive tables.';\n",
              "          element.innerHTML = '';\n",
              "          dataTable['output_type'] = 'display_data';\n",
              "          await google.colab.output.renderOutput(dataTable, element);\n",
              "          const docLink = document.createElement('div');\n",
              "          docLink.innerHTML = docLinkHtml;\n",
              "          element.appendChild(docLink);\n",
              "        }\n",
              "      </script>\n",
              "    </div>\n",
              "  </div>\n",
              "  "
            ]
          },
          "metadata": {},
          "execution_count": 22
        }
      ]
    },
    {
      "cell_type": "code",
      "source": [
        "sns.heatmap(ds.corr(),annot=True)"
      ],
      "metadata": {
        "colab": {
          "base_uri": "https://localhost:8080/",
          "height": 344
        },
        "id": "VL3X9uPyek9L",
        "outputId": "4067885f-1573-490a-e53f-84f65e152820"
      },
      "execution_count": 23,
      "outputs": [
        {
          "output_type": "execute_result",
          "data": {
            "text/plain": [
              "<matplotlib.axes._subplots.AxesSubplot at 0x7f862a4fa090>"
            ]
          },
          "metadata": {},
          "execution_count": 23
        },
        {
          "output_type": "display_data",
          "data": {
            "text/plain": [
              "<Figure size 432x288 with 2 Axes>"
            ],
            "image/png": "[encoded data removed]"
          },
          "metadata": {
            "needs_background": "light"
          }
        }
      ]
    },
    {
      "cell_type": "code",
      "source": [
        "ds.head(2)"
      ],
      "metadata": {
        "colab": {
          "base_uri": "https://localhost:8080/",
          "height": 112
        },
        "id": "J1PMftpeelAC",
        "outputId": "110db56b-379d-4e6d-9c03-d225cdb5cd9c"
      },
      "execution_count": 24,
      "outputs": [
        {
          "output_type": "execute_result",
          "data": {
            "text/plain": [
              "    mpg  cylinders  displacement  horsepower  weight  acceleration  \\\n",
              "0  18.0          8         307.0         130    3504          12.0   \n",
              "1  15.0          8         350.0         165    3693          11.5   \n",
              "\n",
              "   model year  origin  car name  \n",
              "0          70       1        49  \n",
              "1          70       1        36  "
            ],
            "text/html": [
              "\n",
              "  <div id=\"df-b57d59a1-1c6c-4e96-a565-aecc71548aa0\">\n",
              "    <div class=\"colab-df-container\">\n",
              "      <div>\n",
              "<style scoped>\n",
              "    .dataframe tbody tr th:only-of-type {\n",
              "        vertical-align: middle;\n",
              "    }\n",
              "\n",
              "    .dataframe tbody tr th {\n",
              "        vertical-align: top;\n",
              "    }\n",
              "\n",
              "    .dataframe thead th {\n",
              "        text-align: right;\n",
              "    }\n",
              "</style>\n",
              "<table border=\"1\" class=\"dataframe\">\n",
              "  <thead>\n",
              "    <tr style=\"text-align: right;\">\n",
              "      <th></th>\n",
              "      <th>mpg</th>\n",
              "      <th>cylinders</th>\n",
              "      <th>displacement</th>\n",
              "      <th>horsepower</th>\n",
              "      <th>weight</th>\n",
              "      <th>acceleration</th>\n",
              "      <th>model year</th>\n",
              "      <th>origin</th>\n",
              "      <th>car name</th>\n",
              "    </tr>\n",
              "  </thead>\n",
              "  <tbody>\n",
              "    <tr>\n",
              "      <th>0</th>\n",
              "      <td>18.0</td>\n",
              "      <td>8</td>\n",
              "      <td>307.0</td>\n",
              "      <td>130</td>\n",
              "      <td>3504</td>\n",
              "      <td>12.0</td>\n",
              "      <td>70</td>\n",
              "      <td>1</td>\n",
              "      <td>49</td>\n",
              "    </tr>\n",
              "    <tr>\n",
              "      <th>1</th>\n",
              "      <td>15.0</td>\n",
              "      <td>8</td>\n",
              "      <td>350.0</td>\n",
              "      <td>165</td>\n",
              "      <td>3693</td>\n",
              "      <td>11.5</td>\n",
              "      <td>70</td>\n",
              "      <td>1</td>\n",
              "      <td>36</td>\n",
              "    </tr>\n",
              "  </tbody>\n",
              "</table>\n",
              "</div>\n",
              "      <button class=\"colab-df-convert\" onclick=\"convertToInteractive('df-b57d59a1-1c6c-4e96-a565-aecc71548aa0')\"\n",
              "              title=\"Convert this dataframe to an interactive table.\"\n",
              "              style=\"display:none;\">\n",
              "        \n",
              "  <svg xmlns=\"http://www.w3.org/2000/svg\" height=\"24px\"viewBox=\"0 0 24 24\"\n",
              "       width=\"24px\">\n",
              "    <path d=\"M0 0h24v24H0V0z\" fill=\"none\"/>\n",
              "    <path d=\"M18.56 5.44l.94 2.06.94-2.06 2.06-.94-2.06-.94-.94-2.06-.94 2.06-2.06.94zm-11 1L8.5 8.5l.94-2.06 2.06-.94-2.06-.94L8.5 2.5l-.94 2.06-2.06.94zm10 10l.94 2.06.94-2.06 2.06-.94-2.06-.94-.94-2.06-.94 2.06-2.06.94z\"/><path d=\"M17.41 7.96l-1.37-1.37c-.4-.4-.92-.59-1.43-.59-.52 0-1.04.2-1.43.59L10.3 9.45l-7.72 7.72c-.78.78-.78 2.05 0 2.83L4 21.41c.39.39.9.59 1.41.59.51 0 1.02-.2 1.41-.59l7.78-7.78 2.81-2.81c.8-.78.8-2.07 0-2.86zM5.41 20L4 18.59l7.72-7.72 1.47 1.35L5.41 20z\"/>\n",
              "  </svg>\n",
              "      </button>\n",
              "      \n",
              "  <style>\n",
              "    .colab-df-container {\n",
              "      display:flex;\n",
              "      flex-wrap:wrap;\n",
              "      gap: 12px;\n",
              "    }\n",
              "\n",
              "    .colab-df-convert {\n",
              "      background-color: #E8F0FE;\n",
              "      border: none;\n",
              "      border-radius: 50%;\n",
              "      cursor: pointer;\n",
              "      display: none;\n",
              "      fill: #1967D2;\n",
              "      height: 32px;\n",
              "      padding: 0 0 0 0;\n",
              "      width: 32px;\n",
              "    }\n",
              "\n",
              "    .colab-df-convert:hover {\n",
              "      background-color: #E2EBFA;\n",
              "      box-shadow: 0px 1px 2px rgba(60, 64, 67, 0.3), 0px 1px 3px 1px rgba(60, 64, 67, 0.15);\n",
              "      fill: #174EA6;\n",
              "    }\n",
              "\n",
              "    [theme=dark] .colab-df-convert {\n",
              "      background-color: #3B4455;\n",
              "      fill: #D2E3FC;\n",
              "    }\n",
              "\n",
              "    [theme=dark] .colab-df-convert:hover {\n",
              "      background-color: #434B5C;\n",
              "      box-shadow: 0px 1px 3px 1px rgba(0, 0, 0, 0.15);\n",
              "      filter: drop-shadow(0px 1px 2px rgba(0, 0, 0, 0.3));\n",
              "      fill: #FFFFFF;\n",
              "    }\n",
              "  </style>\n",
              "\n",
              "      <script>\n",
              "        const buttonEl =\n",
              "          document.querySelector('#df-b57d59a1-1c6c-4e96-a565-aecc71548aa0 button.colab-df-convert');\n",
              "        buttonEl.style.display =\n",
              "          google.colab.kernel.accessAllowed ? 'block' : 'none';\n",
              "\n",
              "        async function convertToInteractive(key) {\n",
              "          const element = document.querySelector('#df-b57d59a1-1c6c-4e96-a565-aecc71548aa0');\n",
              "          const dataTable =\n",
              "            await google.colab.kernel.invokeFunction('convertToInteractive',\n",
              "                                                     [key], {});\n",
              "          if (!dataTable) return;\n",
              "\n",
              "          const docLinkHtml = 'Like what you see? Visit the ' +\n",
              "            '<a target=\"_blank\" href=https://colab.research.google.com/notebooks/data_table.ipynb>data table notebook</a>'\n",
              "            + ' to learn more about interactive tables.';\n",
              "          element.innerHTML = '';\n",
              "          dataTable['output_type'] = 'display_data';\n",
              "          await google.colab.output.renderOutput(dataTable, element);\n",
              "          const docLink = document.createElement('div');\n",
              "          docLink.innerHTML = docLinkHtml;\n",
              "          element.appendChild(docLink);\n",
              "        }\n",
              "      </script>\n",
              "    </div>\n",
              "  </div>\n",
              "  "
            ]
          },
          "metadata": {},
          "execution_count": 24
        }
      ]
    },
    {
      "cell_type": "code",
      "source": [
        "ds['model year'].unique()"
      ],
      "metadata": {
        "colab": {
          "base_uri": "https://localhost:8080/"
        },
        "id": "_nMoUlkR4ajS",
        "outputId": "b4b336a5-33b0-441c-9202-7bbd385fe3ec"
      },
      "execution_count": 25,
      "outputs": [
        {
          "output_type": "execute_result",
          "data": {
            "text/plain": [
              "array([70, 71, 72, 73, 74, 75, 76, 77, 78, 79, 80, 81, 82])"
            ]
          },
          "metadata": {},
          "execution_count": 25
        }
      ]
    },
    {
      "cell_type": "code",
      "source": [
        "ds['origin'].unique()"
      ],
      "metadata": {
        "colab": {
          "base_uri": "https://localhost:8080/"
        },
        "id": "0cVlZ6jg4agK",
        "outputId": "5509ddc8-8120-4a52-aecb-6bd9f859c4bc"
      },
      "execution_count": 26,
      "outputs": [
        {
          "output_type": "execute_result",
          "data": {
            "text/plain": [
              "array([1, 3, 2])"
            ]
          },
          "metadata": {},
          "execution_count": 26
        }
      ]
    },
    {
      "cell_type": "code",
      "source": [
        "ds['cylinders'].unique()"
      ],
      "metadata": {
        "colab": {
          "base_uri": "https://localhost:8080/"
        },
        "id": "o9NhMgAz5KQY",
        "outputId": "8209e8ad-e77b-4de9-8986-0c659670db90"
      },
      "execution_count": 27,
      "outputs": [
        {
          "output_type": "execute_result",
          "data": {
            "text/plain": [
              "array([8, 4, 6, 3, 5])"
            ]
          },
          "metadata": {},
          "execution_count": 27
        }
      ]
    },
    {
      "cell_type": "code",
      "source": [
        "data = ds.drop(columns=['displacement', 'acceleration', 'car name'])\n",
        "X = data.iloc[:, 1:]\n",
        "Y = data['mpg']"
      ],
      "metadata": {
        "id": "qF9N9Ow5xz6g"
      },
      "execution_count": 28,
      "outputs": []
    },
    {
      "cell_type": "code",
      "source": [
        "X"
      ],
      "metadata": {
        "colab": {
          "base_uri": "https://localhost:8080/",
          "height": 424
        },
        "id": "MQZFJQwXelC7",
        "outputId": "10cff4af-726c-4002-feb3-9086ff7635c4"
      },
      "execution_count": 29,
      "outputs": [
        {
          "output_type": "execute_result",
          "data": {
            "text/plain": [
              "     cylinders  horsepower  weight  model year  origin\n",
              "0            8         130    3504          70       1\n",
              "1            8         165    3693          70       1\n",
              "2            8         150    3436          70       1\n",
              "3            8         150    3433          70       1\n",
              "4            8         140    3449          70       1\n",
              "..         ...         ...     ...         ...     ...\n",
              "393          4          86    2790          82       1\n",
              "394          4          52    2130          82       2\n",
              "395          4          84    2295          82       1\n",
              "396          4          79    2625          82       1\n",
              "397          4          82    2720          82       1\n",
              "\n",
              "[398 rows x 5 columns]"
            ],
            "text/html": [
              "\n",
              "  <div id=\"df-2c33f349-8395-420a-815d-9f0b016391cb\">\n",
              "    <div class=\"colab-df-container\">\n",
              "      <div>\n",
              "<style scoped>\n",
              "    .dataframe tbody tr th:only-of-type {\n",
              "        vertical-align: middle;\n",
              "    }\n",
              "\n",
              "    .dataframe tbody tr th {\n",
              "        vertical-align: top;\n",
              "    }\n",
              "\n",
              "    .dataframe thead th {\n",
              "        text-align: right;\n",
              "    }\n",
              "</style>\n",
              "<table border=\"1\" class=\"dataframe\">\n",
              "  <thead>\n",
              "    <tr style=\"text-align: right;\">\n",
              "      <th></th>\n",
              "      <th>cylinders</th>\n",
              "      <th>horsepower</th>\n",
              "      <th>weight</th>\n",
              "      <th>model year</th>\n",
              "      <th>origin</th>\n",
              "    </tr>\n",
              "  </thead>\n",
              "  <tbody>\n",
              "    <tr>\n",
              "      <th>0</th>\n",
              "      <td>8</td>\n",
              "      <td>130</td>\n",
              "      <td>3504</td>\n",
              "      <td>70</td>\n",
              "      <td>1</td>\n",
              "    </tr>\n",
              "    <tr>\n",
              "      <th>1</th>\n",
              "      <td>8</td>\n",
              "      <td>165</td>\n",
              "      <td>3693</td>\n",
              "      <td>70</td>\n",
              "      <td>1</td>\n",
              "    </tr>\n",
              "    <tr>\n",
              "      <th>2</th>\n",
              "      <td>8</td>\n",
              "      <td>150</td>\n",
              "      <td>3436</td>\n",
              "      <td>70</td>\n",
              "      <td>1</td>\n",
              "    </tr>\n",
              "    <tr>\n",
              "      <th>3</th>\n",
              "      <td>8</td>\n",
              "      <td>150</td>\n",
              "      <td>3433</td>\n",
              "      <td>70</td>\n",
              "      <td>1</td>\n",
              "    </tr>\n",
              "    <tr>\n",
              "      <th>4</th>\n",
              "      <td>8</td>\n",
              "      <td>140</td>\n",
              "      <td>3449</td>\n",
              "      <td>70</td>\n",
              "      <td>1</td>\n",
              "    </tr>\n",
              "    <tr>\n",
              "      <th>...</th>\n",
              "      <td>...</td>\n",
              "      <td>...</td>\n",
              "      <td>...</td>\n",
              "      <td>...</td>\n",
              "      <td>...</td>\n",
              "    </tr>\n",
              "    <tr>\n",
              "      <th>393</th>\n",
              "      <td>4</td>\n",
              "      <td>86</td>\n",
              "      <td>2790</td>\n",
              "      <td>82</td>\n",
              "      <td>1</td>\n",
              "    </tr>\n",
              "    <tr>\n",
              "      <th>394</th>\n",
              "      <td>4</td>\n",
              "      <td>52</td>\n",
              "      <td>2130</td>\n",
              "      <td>82</td>\n",
              "      <td>2</td>\n",
              "    </tr>\n",
              "    <tr>\n",
              "      <th>395</th>\n",
              "      <td>4</td>\n",
              "      <td>84</td>\n",
              "      <td>2295</td>\n",
              "      <td>82</td>\n",
              "      <td>1</td>\n",
              "    </tr>\n",
              "    <tr>\n",
              "      <th>396</th>\n",
              "      <td>4</td>\n",
              "      <td>79</td>\n",
              "      <td>2625</td>\n",
              "      <td>82</td>\n",
              "      <td>1</td>\n",
              "    </tr>\n",
              "    <tr>\n",
              "      <th>397</th>\n",
              "      <td>4</td>\n",
              "      <td>82</td>\n",
              "      <td>2720</td>\n",
              "      <td>82</td>\n",
              "      <td>1</td>\n",
              "    </tr>\n",
              "  </tbody>\n",
              "</table>\n",
              "<p>398 rows × 5 columns</p>\n",
              "</div>\n",
              "      <button class=\"colab-df-convert\" onclick=\"convertToInteractive('df-2c33f349-8395-420a-815d-9f0b016391cb')\"\n",
              "              title=\"Convert this dataframe to an interactive table.\"\n",
              "              style=\"display:none;\">\n",
              "        \n",
              "  <svg xmlns=\"http://www.w3.org/2000/svg\" height=\"24px\"viewBox=\"0 0 24 24\"\n",
              "       width=\"24px\">\n",
              "    <path d=\"M0 0h24v24H0V0z\" fill=\"none\"/>\n",
              "    <path d=\"M18.56 5.44l.94 2.06.94-2.06 2.06-.94-2.06-.94-.94-2.06-.94 2.06-2.06.94zm-11 1L8.5 8.5l.94-2.06 2.06-.94-2.06-.94L8.5 2.5l-.94 2.06-2.06.94zm10 10l.94 2.06.94-2.06 2.06-.94-2.06-.94-.94-2.06-.94 2.06-2.06.94z\"/><path d=\"M17.41 7.96l-1.37-1.37c-.4-.4-.92-.59-1.43-.59-.52 0-1.04.2-1.43.59L10.3 9.45l-7.72 7.72c-.78.78-.78 2.05 0 2.83L4 21.41c.39.39.9.59 1.41.59.51 0 1.02-.2 1.41-.59l7.78-7.78 2.81-2.81c.8-.78.8-2.07 0-2.86zM5.41 20L4 18.59l7.72-7.72 1.47 1.35L5.41 20z\"/>\n",
              "  </svg>\n",
              "      </button>\n",
              "      \n",
              "  <style>\n",
              "    .colab-df-container {\n",
              "      display:flex;\n",
              "      flex-wrap:wrap;\n",
              "      gap: 12px;\n",
              "    }\n",
              "\n",
              "    .colab-df-convert {\n",
              "      background-color: #E8F0FE;\n",
              "      border: none;\n",
              "      border-radius: 50%;\n",
              "      cursor: pointer;\n",
              "      display: none;\n",
              "      fill: #1967D2;\n",
              "      height: 32px;\n",
              "      padding: 0 0 0 0;\n",
              "      width: 32px;\n",
              "    }\n",
              "\n",
              "    .colab-df-convert:hover {\n",
              "      background-color: #E2EBFA;\n",
              "      box-shadow: 0px 1px 2px rgba(60, 64, 67, 0.3), 0px 1px 3px 1px rgba(60, 64, 67, 0.15);\n",
              "      fill: #174EA6;\n",
              "    }\n",
              "\n",
              "    [theme=dark] .colab-df-convert {\n",
              "      background-color: #3B4455;\n",
              "      fill: #D2E3FC;\n",
              "    }\n",
              "\n",
              "    [theme=dark] .colab-df-convert:hover {\n",
              "      background-color: #434B5C;\n",
              "      box-shadow: 0px 1px 3px 1px rgba(0, 0, 0, 0.15);\n",
              "      filter: drop-shadow(0px 1px 2px rgba(0, 0, 0, 0.3));\n",
              "      fill: #FFFFFF;\n",
              "    }\n",
              "  </style>\n",
              "\n",
              "      <script>\n",
              "        const buttonEl =\n",
              "          document.querySelector('#df-2c33f349-8395-420a-815d-9f0b016391cb button.colab-df-convert');\n",
              "        buttonEl.style.display =\n",
              "          google.colab.kernel.accessAllowed ? 'block' : 'none';\n",
              "\n",
              "        async function convertToInteractive(key) {\n",
              "          const element = document.querySelector('#df-2c33f349-8395-420a-815d-9f0b016391cb');\n",
              "          const dataTable =\n",
              "            await google.colab.kernel.invokeFunction('convertToInteractive',\n",
              "                                                     [key], {});\n",
              "          if (!dataTable) return;\n",
              "\n",
              "          const docLinkHtml = 'Like what you see? Visit the ' +\n",
              "            '<a target=\"_blank\" href=https://colab.research.google.com/notebooks/data_table.ipynb>data table notebook</a>'\n",
              "            + ' to learn more about interactive tables.';\n",
              "          element.innerHTML = '';\n",
              "          dataTable['output_type'] = 'display_data';\n",
              "          await google.colab.output.renderOutput(dataTable, element);\n",
              "          const docLink = document.createElement('div');\n",
              "          docLink.innerHTML = docLinkHtml;\n",
              "          element.appendChild(docLink);\n",
              "        }\n",
              "      </script>\n",
              "    </div>\n",
              "  </div>\n",
              "  "
            ]
          },
          "metadata": {},
          "execution_count": 29
        }
      ]
    },
    {
      "cell_type": "code",
      "source": [
        "Y"
      ],
      "metadata": {
        "colab": {
          "base_uri": "https://localhost:8080/"
        },
        "id": "RbuOyDWZelFE",
        "outputId": "dadddac0-754a-43f5-f756-d2a50f7e4afe"
      },
      "execution_count": 30,
      "outputs": [
        {
          "output_type": "execute_result",
          "data": {
            "text/plain": [
              "0      18.0\n",
              "1      15.0\n",
              "2      18.0\n",
              "3      16.0\n",
              "4      17.0\n",
              "       ... \n",
              "393    27.0\n",
              "394    44.0\n",
              "395    32.0\n",
              "396    28.0\n",
              "397    31.0\n",
              "Name: mpg, Length: 398, dtype: float64"
            ]
          },
          "metadata": {},
          "execution_count": 30
        }
      ]
    },
    {
      "cell_type": "code",
      "source": [
        "print(X.shape,Y.shape)"
      ],
      "metadata": {
        "colab": {
          "base_uri": "https://localhost:8080/"
        },
        "id": "B_o2So9XfuCp",
        "outputId": "0d02aa2c-67d5-48b9-aa31-81293795462c"
      },
      "execution_count": 31,
      "outputs": [
        {
          "output_type": "stream",
          "name": "stdout",
          "text": [
            "(398, 5) (398,)\n"
          ]
        }
      ]
    },
    {
      "cell_type": "code",
      "source": [
        "plt.scatter(ds['mpg'],ds['weight'],color='blue')"
      ],
      "metadata": {
        "colab": {
          "base_uri": "https://localhost:8080/",
          "height": 282
        },
        "id": "gmAVzqUXx60I",
        "outputId": "72ccffb5-0a0b-4899-a8e7-2fc86236bb9c"
      },
      "execution_count": 32,
      "outputs": [
        {
          "output_type": "execute_result",
          "data": {
            "text/plain": [
              "<matplotlib.collections.PathCollection at 0x7f8627579810>"
            ]
          },
          "metadata": {},
          "execution_count": 32
        },
        {
          "output_type": "display_data",
          "data": {
            "text/plain": [
              "<Figure size 432x288 with 1 Axes>"
            ],
            "image/png": "[encoded data removed]"
          },
          "metadata": {
            "needs_background": "light"
          }
        }
      ]
    },
    {
      "cell_type": "code",
      "source": [
        "plt.scatter(ds['mpg'],ds['horsepower'],color='blue')"
      ],
      "metadata": {
        "colab": {
          "base_uri": "https://localhost:8080/",
          "height": 282
        },
        "id": "NjiywZA_fuFp",
        "outputId": "46ba2c0d-93d8-4107-c3ed-35c7047bbe62"
      },
      "execution_count": 33,
      "outputs": [
        {
          "output_type": "execute_result",
          "data": {
            "text/plain": [
              "<matplotlib.collections.PathCollection at 0x7f86275404d0>"
            ]
          },
          "metadata": {},
          "execution_count": 33
        },
        {
          "output_type": "display_data",
          "data": {
            "text/plain": [
              "<Figure size 432x288 with 1 Axes>"
            ],
            "image/png": "[encoded data removed]"
          },
          "metadata": {
            "needs_background": "light"
          }
        }
      ]
    },
    {
      "cell_type": "code",
      "source": [
        "from sklearn.preprocessing import MinMaxScaler\n",
        "mms = MinMaxScaler()\n",
        "X = mms.fit_transform(X)\n",
        "X"
      ],
      "metadata": {
        "colab": {
          "base_uri": "https://localhost:8080/"
        },
        "id": "7c3t0C4nyQsX",
        "outputId": "5b7e9c89-ccef-47d7-cc65-deea96fd70e3"
      },
      "execution_count": 34,
      "outputs": [
        {
          "output_type": "execute_result",
          "data": {
            "text/plain": [
              "array([[1.        , 0.45652174, 0.5361497 , 0.        , 0.        ],\n",
              "       [1.        , 0.64673913, 0.58973632, 0.        , 0.        ],\n",
              "       [1.        , 0.56521739, 0.51686986, 0.        , 0.        ],\n",
              "       ...,\n",
              "       [0.2       , 0.20652174, 0.19336547, 1.        , 0.        ],\n",
              "       [0.2       , 0.17934783, 0.2869294 , 1.        , 0.        ],\n",
              "       [0.2       , 0.19565217, 0.31386447, 1.        , 0.        ]])"
            ]
          },
          "metadata": {},
          "execution_count": 34
        }
      ]
    },
    {
      "cell_type": "code",
      "source": [
        "from sklearn.model_selection import train_test_split\n",
        "X_train,X_test,Y_train,Y_test=train_test_split(X,Y,test_size=0.2)"
      ],
      "metadata": {
        "id": "P-zaA6_ufuII"
      },
      "execution_count": 35,
      "outputs": []
    },
    {
      "cell_type": "code",
      "source": [
        "print(X_train.shape,X_test.shape)"
      ],
      "metadata": {
        "colab": {
          "base_uri": "https://localhost:8080/"
        },
        "id": "_DClnbnDfuKw",
        "outputId": "159124a7-5676-4807-f28c-47940c7d8edc"
      },
      "execution_count": 36,
      "outputs": [
        {
          "output_type": "stream",
          "name": "stdout",
          "text": [
            "(318, 5) (80, 5)\n"
          ]
        }
      ]
    },
    {
      "cell_type": "code",
      "source": [
        "from sklearn.linear_model import LinearRegression\n",
        "regressor=LinearRegression()"
      ],
      "metadata": {
        "id": "Uvt-D4o2hVj2"
      },
      "execution_count": 37,
      "outputs": []
    },
    {
      "cell_type": "code",
      "source": [
        "regressor.fit(X_train,Y_train)"
      ],
      "metadata": {
        "colab": {
          "base_uri": "https://localhost:8080/"
        },
        "id": "11HTmkhfhVm_",
        "outputId": "1fb3c9e7-9d20-4a2a-f18a-6bb879ea268f"
      },
      "execution_count": 38,
      "outputs": [
        {
          "output_type": "execute_result",
          "data": {
            "text/plain": [
              "LinearRegression()"
            ]
          },
          "metadata": {},
          "execution_count": 38
        }
      ]
    },
    {
      "cell_type": "code",
      "source": [
        "pred = regressor.predict(X_test)\n",
        "pred[:5]"
      ],
      "metadata": {
        "colab": {
          "base_uri": "https://localhost:8080/"
        },
        "id": "Yg5_M6iZzcXd",
        "outputId": "20a14068-ca87-4c29-83e9-ddc39587aaf0"
      },
      "execution_count": 39,
      "outputs": [
        {
          "output_type": "execute_result",
          "data": {
            "text/plain": [
              "array([32.44016522, 32.36272928, 23.2403621 , 23.82772208, 17.61297171])"
            ]
          },
          "metadata": {},
          "execution_count": 39
        }
      ]
    },
    {
      "cell_type": "code",
      "source": [
        "from sklearn.metrics import r2_score\n",
        "r2_score(Y_test, pred)"
      ],
      "metadata": {
        "colab": {
          "base_uri": "https://localhost:8080/"
        },
        "id": "j8AmknsMzckU",
        "outputId": "ffc1ab28-a203-44cf-af5e-77adbba11299"
      },
      "execution_count": 40,
      "outputs": [
        {
          "output_type": "execute_result",
          "data": {
            "text/plain": [
              "0.8152735697265177"
            ]
          },
          "metadata": {},
          "execution_count": 40
        }
      ]
    },
    {
      "cell_type": "code",
      "source": [
        "# Fitting Polynomial Regression to the dataset\n",
        "from sklearn.preprocessing import PolynomialFeatures\n",
        "\n",
        "poly = PolynomialFeatures(degree = 3)\n",
        "lin2 = LinearRegression()\n",
        "lin2.fit(poly.fit_transform(X_train), Y_train)"
      ],
      "metadata": {
        "colab": {
          "base_uri": "https://localhost:8080/"
        },
        "id": "2HtZOiD5hV0l",
        "outputId": "390a0af1-dec8-49d4-b42b-27f1933ebe20"
      },
      "execution_count": 41,
      "outputs": [
        {
          "output_type": "execute_result",
          "data": {
            "text/plain": [
              "LinearRegression()"
            ]
          },
          "metadata": {},
          "execution_count": 41
        }
      ]
    },
    {
      "cell_type": "code",
      "source": [
        "pred = lin2.predict(poly.fit_transform(X_test))\n",
        "pred[:5]"
      ],
      "metadata": {
        "colab": {
          "base_uri": "https://localhost:8080/"
        },
        "id": "z1cRSbqN1ELO",
        "outputId": "ea7e743a-2182-471b-d40d-37f0aa187313"
      },
      "execution_count": 42,
      "outputs": [
        {
          "output_type": "execute_result",
          "data": {
            "text/plain": [
              "array([34.25303091, 32.80161339, 20.18258975, 21.79010672, 16.20953948])"
            ]
          },
          "metadata": {},
          "execution_count": 42
        }
      ]
    },
    {
      "cell_type": "code",
      "source": [
        "from sklearn.metrics import r2_score\n",
        "r2_score(Y_test, pred)"
      ],
      "metadata": {
        "colab": {
          "base_uri": "https://localhost:8080/"
        },
        "id": "Y8_PMlYB1iyX",
        "outputId": "0d2a0342-3df6-4952-9346-e0e07bf998b5"
      },
      "execution_count": 43,
      "outputs": [
        {
          "output_type": "execute_result",
          "data": {
            "text/plain": [
              "0.8730961035901238"
            ]
          },
          "metadata": {},
          "execution_count": 43
        }
      ]
    },
    {
      "cell_type": "code",
      "source": [
        "result = np.where(pred > 25, 1, 0)\n",
        "result"
      ],
      "metadata": {
        "colab": {
          "base_uri": "https://localhost:8080/"
        },
        "id": "lytQGXrd1iwC",
        "outputId": "8449677b-8fd8-4a75-d331-ebec76ccf930"
      },
      "execution_count": 44,
      "outputs": [
        {
          "output_type": "execute_result",
          "data": {
            "text/plain": [
              "array([1, 1, 0, 0, 0, 1, 0, 1, 0, 1, 1, 0, 1, 0, 0, 1, 0, 1, 0, 1, 0, 1,\n",
              "       0, 0, 0, 0, 0, 1, 1, 0, 1, 0, 1, 0, 1, 0, 0, 0, 0, 1, 0, 1, 1, 0,\n",
              "       1, 0, 1, 1, 1, 0, 1, 0, 0, 0, 1, 0, 1, 1, 1, 0, 0, 0, 0, 0, 0, 0,\n",
              "       0, 0, 1, 0, 0, 1, 0, 0, 0, 0, 1, 1, 1, 1])"
            ]
          },
          "metadata": {},
          "execution_count": 44
        }
      ]
    },
    {
      "cell_type": "code",
      "source": [
        "import pickle\n",
        "pickle.dump(ds,open('model.pkl','wb'))"
      ],
      "metadata": {
        "id": "HhmNONU89ntt"
      },
      "execution_count": 45,
      "outputs": []
    }
  ]
}